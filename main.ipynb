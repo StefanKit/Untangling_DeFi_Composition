{
 "cells": [
  {
   "cell_type": "markdown",
   "id": "b729105a-142d-4153-b983-7e88efc9f5c5",
   "metadata": {
    "tags": []
   },
   "source": [
    "# DeFi_Compositions\n",
    "This repository provides the tools to reproduce the results shown in the paper [\"Disentangling Decentralized Finance (DeFi) \n",
    "Compositions\"](https://depositonce.tu-berlin.de/bitstream/11303/13867/4/Kitzler_etal_Disentangling_2021_Cover.pdf) by \n",
    "Kitzler et al. (2021), the first study on compositions of Decentralized Finance (DeFi) protocols. \n",
    "The notebook runs the scripts step-by-step. By default, the repository contains a sample data set (the full dataset is too large), as well as the sources where to find the full data we used.\n"
   ]
  },
  {
   "cell_type": "markdown",
   "id": "19d73c79-7e38-42cd-b814-febaba0dec4d",
   "metadata": {},
   "source": [
    "## Before getting started\n",
    "\n",
    "The code consists of several steps which can in principle be executed autonomously. But since there are a lot of preprocessing steps to reshape, adjust, and temporarily store data sets, it's recommended to follow the notebook.\n",
    "Most of the processing is written in Python, the conda environment is defined in `environment.yml`  and further requirements are stored in `requirements.txt`. Parts of the analysis and plotting sections are written in R and can be executed with the rpy2-implementation. The conda environment already contains some R-packages and further libraries from the `requirements.csv` file will be installed within the notebook.\n",
    "\n",
    "### Config file\n",
    "\n",
    "This is a short description of the yaml-file to adjust the template in the upcoming step.\n",
    "\n",
    "The config file `config.yaml` contains a pointer (directory paths) to the sources and destination folders. \n",
    "\n",
    "* **path_prot_colors** (read): Pre-defined color palette for DeFi-protocols to provide consitent plots. We provide a sample file `./data/protocol_colors.csv`.\n",
    "* **path_seed_data** (read): Seed addresses to identify account addresses for each DeFi protocol. We provide our manually curated ground-truth lists of protocol-specific addresses in `path_seed_data`, based on off-chain public sources of information, such as protocol websites and related documentation. \n",
    "* **path_chain_data** (read): The analysis uses trace-data of the OpenEthereum client and ethereum-etl (https://github.com/blockchain-etl/ethereum-etl). The folder must contain the traces of the corresponding block-range and all contract creations, starting from genesis (block 0). The samples of the on-chain data are stored in the ```./data/1_chain_data/``` folder:\n",
    "* **path_offchain_data** (read): The folder contains further information, not found on the blockchain. Human-readable function signatures help to understand the executed code account transactions. Sample data from the 4Byte lookup service (https://www.4byte.directory/) are provided in `./data/1_offchain_data/ethereum.functionsignatures.csv`. For statistical reasons, the total value locked (tvl) has been manually curated from historical data of (https://www.defipulse.com/) and stored in `./data/1_offchain_data`.\n",
    "* **path_preprocess_data** (read/write): Folder for temporal and permanent (e.g. networks) preprocessing data.\n",
    "* **path_building_block_data** (read/write): Folder for building blocks.\n"
   ]
  },
  {
   "cell_type": "markdown",
   "id": "3422ad60-176c-41a6-b81f-dde882854a81",
   "metadata": {},
   "source": [
    "# 0. Initial Steps\n",
    "## 0.1 Set path\n",
    "Before getting started, make sure that the working directory is correctly set to the root directory."
   ]
  },
  {
   "cell_type": "code",
   "execution_count": null,
   "id": "05f33b31-2d70-4909-9fee-61366e067978",
   "metadata": {
    "tags": [
     "remove-output",
     "hide-output"
    ]
   },
   "outputs": [],
   "source": [
    "import os\n",
    "\n",
    "os.getcwd()\n",
    "#os.chdir(\"./..\") # change directory if necessary to dir root"
   ]
  },
  {
   "cell_type": "markdown",
   "id": "c32a1f95-daa8-4d7c-8ee8-ded0df13096a",
   "metadata": {},
   "source": [
    "Load the rpy2 *R-magic* implementation to execute R code."
   ]
  },
  {
   "cell_type": "code",
   "execution_count": 2,
   "id": "603e9045-c12c-43a5-9a62-29b31cce3203",
   "metadata": {
    "tags": []
   },
   "outputs": [],
   "source": [
    "%load_ext rpy2.ipython"
   ]
  },
  {
   "cell_type": "markdown",
   "id": "415098ae-5d6d-4d3f-9658-9f35c1d906e2",
   "metadata": {},
   "source": [
    "Also, check (or change) the R working directory."
   ]
  },
  {
   "cell_type": "code",
   "execution_count": null,
   "id": "3ad678e8-2e18-44df-9ae9-5313f692ca9a",
   "metadata": {
    "tags": []
   },
   "outputs": [],
   "source": [
    "%R getwd()\n",
    "# %R setwd(\"./..\") # R # change directory if necessary to root of dir"
   ]
  },
  {
   "cell_type": "markdown",
   "id": "ee51086a-f91b-49af-b2a6-a27c1b9dac42",
   "metadata": {},
   "source": [
    "## 0.2 Import libraries"
   ]
  },
  {
   "cell_type": "markdown",
   "id": "0e49dc3c-768b-4c02-876d-f4f887dfedbc",
   "metadata": {},
   "source": [
    "Import Python libraries for preprocessing steps and building block extraction."
   ]
  },
  {
   "cell_type": "code",
   "execution_count": 4,
   "id": "8881f9c2-c2c0-45b7-89a8-89c89b731cd3",
   "metadata": {},
   "outputs": [],
   "source": [
    "import scripts.basicFun as bf\n",
    "import scripts.preprocess as pr\n",
    "import scripts.building_blocks as bb\n",
    "import scripts.case_study as cs\n",
    "import scripts.building_blocks_plot_tree as bbpt"
   ]
  },
  {
   "cell_type": "markdown",
   "id": "ccc07a3a-2b19-478f-9f4c-9d6e1dc22f12",
   "metadata": {},
   "source": [
    "Load R requirements (packages and version), install them (if necessary), and import the libraries. Eventually re-run the script, if the library import is not working directly after the install."
   ]
  },
  {
   "cell_type": "code",
   "execution_count": 5,
   "id": "e8354be2-c5ba-4c76-8b83-38423565f1c3",
   "metadata": {},
   "outputs": [],
   "source": [
    "%%R \n",
    "# read R requirement-csv\n",
    "requirements <- read.table(file = \"./requirements.csv\", header = TRUE, stringsAsFactors=FALSE, sep = \",\")"
   ]
  },
  {
   "cell_type": "code",
   "execution_count": 6,
   "id": "b81d8aa0-12f1-4613-96ee-a99dd4dad6e6",
   "metadata": {
    "scrolled": true,
    "tags": []
   },
   "outputs": [
    {
     "name": "stderr",
     "output_type": "stream",
     "text": [
      "R[write to console]: Loading required package: tikzDevice\n",
      "\n",
      "R[write to console]: Loading required package: treemap\n",
      "\n",
      "R[write to console]: Loading required package: ggfittext\n",
      "\n",
      "R[write to console]: Loading required package: ggalluvial\n",
      "\n",
      "R[write to console]: Loading required package: ggplot2\n",
      "\n",
      "R[write to console]: Loading required package: egg\n",
      "\n",
      "R[write to console]: Loading required package: gridExtra\n",
      "\n"
     ]
    }
   ],
   "source": [
    "%%R \n",
    "# install not available package and import libraries\n",
    "\n",
    "for(l in 1:dim(requirements)[1]){\n",
    "    #print(requirements[l,1])\n",
    "    if(!require(requirements[l,1],  character.only = TRUE))\n",
    "        install.packages(requirements[l,1], version = requirements[l,2])\n",
    "        library(requirements[l,1], character.only = TRUE)\n",
    "}"
   ]
  },
  {
   "cell_type": "markdown",
   "id": "34bace68-b6d8-4b5c-aea2-1c7aede88dd2",
   "metadata": {},
   "source": [
    "## 0.3 Define parameter\n",
    "The block-range of the Ethereum blockchain has to be defined. In the paper we used the range from 01-Jan-2021 (block 11,565,019) to 05-Aug-2021 (block 12,964,999). The corresponding traces for this range must be available in the on-chain folder and all the contract creations, starting from genesis (block 0)!\n",
    "Further, two limit parameters could be defined, to only use a certain fraction of the trace data, which is mainly useful for testing."
   ]
  },
  {
   "cell_type": "code",
   "execution_count": 7,
   "id": "956dfe54-7943-4763-ba9d-0695cecb6347",
   "metadata": {},
   "outputs": [],
   "source": [
    "# default\n",
    "blocks = (14000000,14000999) # block range for sample data\n",
    "n = 1e6  # number of files\n",
    "l = 1e6  # number of lines"
   ]
  },
  {
   "cell_type": "markdown",
   "id": "05dc4410-0551-4493-ae7b-b8bdb6d8e8a5",
   "metadata": {},
   "source": [
    "## 0.4 Create Seed\n",
    " from preprocess.py"
   ]
  },
  {
   "cell_type": "markdown",
   "id": "a4696c35-7da3-4b23-a894-5e5c32ad1635",
   "metadata": {},
   "source": [
    "### Extract contract creations from chain-data\n",
    "First, all accessible trace files from the Ethereum blockchain will be read and contract-creation transactions will be extracted and stored. Implementation of ERC20 interfaces will be detected and all contract addresses and their ERC20 compatibility will be stored."
   ]
  },
  {
   "cell_type": "code",
   "execution_count": null,
   "id": "d08ab24f-4d62-457d-8b8d-4b1758939cf6",
   "metadata": {
    "scrolled": true,
    "tags": []
   },
   "outputs": [],
   "source": [
    "# extract contracts\n",
    "# if (args.function in ['contracts', 'all']):\n",
    "pr.extractContractCreations(block_range=blocks)\n",
    "## read all trace-files (csg.gz) from path_chain_data\n",
    "## filter for 'create'-trace-type\n",
    "## detect ERC20 tokens from method output\n",
    "## concat all traces\n",
    "## write \"trace_creations.csv.gz\" to path_preprocess_data/contract_creations\n",
    "## write \"contracts.csv.gz\" to path_preprocess_data/contract_creations"
   ]
  },
  {
   "cell_type": "markdown",
   "id": "01a91830-ac70-4d5c-bf9f-4e73f083e8db",
   "metadata": {},
   "source": [
    "### Create method signatures\n",
    "Read the Ethereum signature functions and create a unique data set, so that every 4-byte function signature corresponds to a method name"
   ]
  },
  {
   "cell_type": "code",
   "execution_count": 9,
   "id": "1e8a5be4-729f-49b3-a790-271d60035f93",
   "metadata": {},
   "outputs": [
    {
     "name": "stdout",
     "output_type": "stream",
     "text": [
      "data shape: (451299, 3)\n",
      "length of unique data:155027\n",
      "Method processMethodSignatures finished\n"
     ]
    }
   ],
   "source": [
    "# create signatures \n",
    "# if (args.function in ['creaSig', 'create', 'all']):\n",
    "pr.processMethodSignatures()\n",
    "## read path_offchain_data/'ethereum.functionsignatures.csv'\n",
    "## create unique data set: methodId <-> methodName\n",
    "## write to path_preprocess_data/'method_signatures.csv'"
   ]
  },
  {
   "cell_type": "markdown",
   "id": "cf36564c-5aee-42f6-af23-7cd4a5713bf4",
   "metadata": {},
   "source": [
    "### Create protocol addresses from seed \n",
    "Collect protocol seed addresses from sub-folders and create one csv-file."
   ]
  },
  {
   "cell_type": "code",
   "execution_count": 10,
   "id": "4b4ee621-f322-445c-83de-cc6c0ca3a238",
   "metadata": {},
   "outputs": [
    {
     "name": "stdout",
     "output_type": "stream",
     "text": [
      "create Protocol Addresses finished\n"
     ]
    }
   ],
   "source": [
    "# create protocol addresses from seed folders\n",
    "# if (args.function in ['creaPro', 'create', 'all']):\n",
    "pr.createProtocolAddresses()\n",
    "## read all csv-files from path_seed_data/protocols\n",
    "## merge them\n",
    "## write 'Protocol_Addresses.csv' to path_preprocess_data"
   ]
  },
  {
   "cell_type": "markdown",
   "id": "588e238a-f775-40d2-914c-8334f147046b",
   "metadata": {},
   "source": [
    "### Expand seed addresses by heuristic\n",
    "Use the extension heuristic (defined in the paper) and add for each address also its' created contracts to the dataset."
   ]
  },
  {
   "cell_type": "code",
   "execution_count": 11,
   "id": "8f6f9d09-e789-4c79-8e43-a35a6b04ea0d",
   "metadata": {},
   "outputs": [
    {
     "name": "stdout",
     "output_type": "stream",
     "text": [
      "Expanded Protocol Addresses finished\n"
     ]
    }
   ],
   "source": [
    "#if (args.function in ['extPro', 'create', 'all']):\n",
    "pr.extandProtocolAddresses()\n",
    "## read 'trace_creations.csv.gz' from path_preprocess_data/contract_creations\n",
    "## read seed addresses 'Protocol_Addresses.csv' from path_preprocess_data\n",
    "## run extension heuristic\n",
    "## write to extended seed 'Protocol_Addresses_expanded.csv.gz' to path_preprocess_data"
   ]
  },
  {
   "cell_type": "markdown",
   "id": "b1359eb0-20a5-4259-ab2d-dac4ac2425ab",
   "metadata": {},
   "source": [
    "## 0.5 Get summaries\n",
    "from preprocess.py\n"
   ]
  },
  {
   "cell_type": "markdown",
   "id": "f7c86aab-983d-4713-af05-714546f304d8",
   "metadata": {},
   "source": [
    "### Summary table of address affiliations\n",
    "Create summary tables for the seed addresses and their protocol affiliations"
   ]
  },
  {
   "cell_type": "code",
   "execution_count": 12,
   "id": "3102f022-7218-4d1b-bc99-9393d61e666b",
   "metadata": {},
   "outputs": [
    {
     "data": {
      "text/html": [
       "<div>\n",
       "<style scoped>\n",
       "    .dataframe tbody tr th:only-of-type {\n",
       "        vertical-align: middle;\n",
       "    }\n",
       "\n",
       "    .dataframe tbody tr th {\n",
       "        vertical-align: top;\n",
       "    }\n",
       "\n",
       "    .dataframe thead th {\n",
       "        text-align: right;\n",
       "    }\n",
       "</style>\n",
       "<table border=\"1\" class=\"dataframe\">\n",
       "  <thead>\n",
       "    <tr style=\"text-align: right;\">\n",
       "      <th></th>\n",
       "      <th>type</th>\n",
       "      <th>protocol</th>\n",
       "      <th>seed</th>\n",
       "      <th>seed extended</th>\n",
       "    </tr>\n",
       "  </thead>\n",
       "  <tbody>\n",
       "    <tr>\n",
       "      <th>0</th>\n",
       "      <td>assets</td>\n",
       "      <td>badger</td>\n",
       "      <td>64</td>\n",
       "      <td>68</td>\n",
       "    </tr>\n",
       "    <tr>\n",
       "      <th>1</th>\n",
       "      <td>assets</td>\n",
       "      <td>convex</td>\n",
       "      <td>22</td>\n",
       "      <td>62</td>\n",
       "    </tr>\n",
       "    <tr>\n",
       "      <th>2</th>\n",
       "      <td>assets</td>\n",
       "      <td>fei</td>\n",
       "      <td>40</td>\n",
       "      <td>38</td>\n",
       "    </tr>\n",
       "    <tr>\n",
       "      <th>3</th>\n",
       "      <td>assets</td>\n",
       "      <td>harvestfinance</td>\n",
       "      <td>101</td>\n",
       "      <td>105</td>\n",
       "    </tr>\n",
       "    <tr>\n",
       "      <th>4</th>\n",
       "      <td>assets</td>\n",
       "      <td>renvm</td>\n",
       "      <td>15</td>\n",
       "      <td>15</td>\n",
       "    </tr>\n",
       "    <tr>\n",
       "      <th>5</th>\n",
       "      <td>assets</td>\n",
       "      <td>vesper</td>\n",
       "      <td>44</td>\n",
       "      <td>44</td>\n",
       "    </tr>\n",
       "    <tr>\n",
       "      <th>6</th>\n",
       "      <td>assets</td>\n",
       "      <td>yearn</td>\n",
       "      <td>3</td>\n",
       "      <td>3</td>\n",
       "    </tr>\n",
       "    <tr>\n",
       "      <th>7</th>\n",
       "      <td>derivatives</td>\n",
       "      <td>barnbridge</td>\n",
       "      <td>40</td>\n",
       "      <td>40</td>\n",
       "    </tr>\n",
       "    <tr>\n",
       "      <th>8</th>\n",
       "      <td>derivatives</td>\n",
       "      <td>dydx</td>\n",
       "      <td>38</td>\n",
       "      <td>38</td>\n",
       "    </tr>\n",
       "    <tr>\n",
       "      <th>9</th>\n",
       "      <td>derivatives</td>\n",
       "      <td>futureswap</td>\n",
       "      <td>9</td>\n",
       "      <td>9</td>\n",
       "    </tr>\n",
       "    <tr>\n",
       "      <th>10</th>\n",
       "      <td>derivatives</td>\n",
       "      <td>hegic</td>\n",
       "      <td>8</td>\n",
       "      <td>8</td>\n",
       "    </tr>\n",
       "    <tr>\n",
       "      <th>11</th>\n",
       "      <td>derivatives</td>\n",
       "      <td>nexus</td>\n",
       "      <td>24</td>\n",
       "      <td>24</td>\n",
       "    </tr>\n",
       "    <tr>\n",
       "      <th>12</th>\n",
       "      <td>derivatives</td>\n",
       "      <td>synthetix</td>\n",
       "      <td>271</td>\n",
       "      <td>271</td>\n",
       "    </tr>\n",
       "    <tr>\n",
       "      <th>13</th>\n",
       "      <td>dex</td>\n",
       "      <td>0x</td>\n",
       "      <td>28</td>\n",
       "      <td>32</td>\n",
       "    </tr>\n",
       "    <tr>\n",
       "      <th>14</th>\n",
       "      <td>dex</td>\n",
       "      <td>1inch</td>\n",
       "      <td>15</td>\n",
       "      <td>15</td>\n",
       "    </tr>\n",
       "    <tr>\n",
       "      <th>15</th>\n",
       "      <td>dex</td>\n",
       "      <td>balancer</td>\n",
       "      <td>9</td>\n",
       "      <td>11</td>\n",
       "    </tr>\n",
       "    <tr>\n",
       "      <th>16</th>\n",
       "      <td>dex</td>\n",
       "      <td>curvefinance</td>\n",
       "      <td>163</td>\n",
       "      <td>164</td>\n",
       "    </tr>\n",
       "    <tr>\n",
       "      <th>17</th>\n",
       "      <td>dex</td>\n",
       "      <td>sushiswap</td>\n",
       "      <td>12</td>\n",
       "      <td>143</td>\n",
       "    </tr>\n",
       "    <tr>\n",
       "      <th>18</th>\n",
       "      <td>dex</td>\n",
       "      <td>uniswap</td>\n",
       "      <td>15</td>\n",
       "      <td>524</td>\n",
       "    </tr>\n",
       "    <tr>\n",
       "      <th>19</th>\n",
       "      <td>lending</td>\n",
       "      <td>aave</td>\n",
       "      <td>157</td>\n",
       "      <td>157</td>\n",
       "    </tr>\n",
       "    <tr>\n",
       "      <th>20</th>\n",
       "      <td>lending</td>\n",
       "      <td>compound</td>\n",
       "      <td>67</td>\n",
       "      <td>67</td>\n",
       "    </tr>\n",
       "    <tr>\n",
       "      <th>21</th>\n",
       "      <td>lending</td>\n",
       "      <td>instadapp</td>\n",
       "      <td>72</td>\n",
       "      <td>72</td>\n",
       "    </tr>\n",
       "    <tr>\n",
       "      <th>22</th>\n",
       "      <td>lending</td>\n",
       "      <td>maker</td>\n",
       "      <td>190</td>\n",
       "      <td>193</td>\n",
       "    </tr>\n",
       "  </tbody>\n",
       "</table>\n",
       "</div>"
      ],
      "text/plain": [
       "           type        protocol  seed  seed extended\n",
       "0        assets          badger    64             68\n",
       "1        assets          convex    22             62\n",
       "2        assets             fei    40             38\n",
       "3        assets  harvestfinance   101            105\n",
       "4        assets           renvm    15             15\n",
       "5        assets          vesper    44             44\n",
       "6        assets           yearn     3              3\n",
       "7   derivatives      barnbridge    40             40\n",
       "8   derivatives            dydx    38             38\n",
       "9   derivatives      futureswap     9              9\n",
       "10  derivatives           hegic     8              8\n",
       "11  derivatives           nexus    24             24\n",
       "12  derivatives       synthetix   271            271\n",
       "13          dex              0x    28             32\n",
       "14          dex           1inch    15             15\n",
       "15          dex        balancer     9             11\n",
       "16          dex    curvefinance   163            164\n",
       "17          dex       sushiswap    12            143\n",
       "18          dex         uniswap    15            524\n",
       "19      lending            aave   157            157\n",
       "20      lending        compound    67             67\n",
       "21      lending       instadapp    72             72\n",
       "22      lending           maker   190            193"
      ]
     },
     "execution_count": 12,
     "metadata": {},
     "output_type": "execute_result"
    }
   ],
   "source": [
    "pr.get_addr_summary(outpath = None)"
   ]
  },
  {
   "cell_type": "markdown",
   "id": "b1d637c3-f7b9-4d75-8b47-035deaa21066",
   "metadata": {},
   "source": [
    "### Total value locked (TVL) from DeFi Pulse\n",
    "Use off-chain data from DeFi-Pulse (https://www.defipulse.com/) to provide a summary of the TVL for each DeFi protocol. Data was collected by using internet archive (https://archive.org/web/)"
   ]
  },
  {
   "cell_type": "code",
   "execution_count": 13,
   "id": "4a5d4bd8-56e5-4229-b9de-af75debf6766",
   "metadata": {},
   "outputs": [
    {
     "data": {
      "text/plain": [
       "Name                      Category\n",
       "1inch Liquidity Protocol  DEXes        0.515948\n",
       "88mph                     Lending      0.047362\n",
       "Aave                      Lending     13.309862\n",
       "Alchemix                  Lending      0.286855\n",
       "Alpha Homora              Lending      1.477943\n",
       "                                        ...    \n",
       "dYdX                      Lending      0.181684\n",
       "mStable                   Assets       0.080160\n",
       "xDai                      Payments     0.118935\n",
       "yAxis                     Assets       0.068340\n",
       "yearn.finance             Assets       3.541124\n",
       "Length: 120, dtype: float64"
      ]
     },
     "execution_count": 13,
     "metadata": {},
     "output_type": "execute_result"
    }
   ],
   "source": [
    "# for each protocol [%]\n",
    "pr.get_tvl(None)"
   ]
  },
  {
   "cell_type": "markdown",
   "id": "2b1c1880-f72c-4d6a-984c-b450c0d5009d",
   "metadata": {},
   "source": [
    "# 1. Preprocess\n",
    "from preprocess.py"
   ]
  },
  {
   "cell_type": "markdown",
   "id": "895c43eb-00e2-442f-96fe-cb0357e24c76",
   "metadata": {},
   "source": [
    "## 1.1 Filter trace \n",
    "Read all trace-files (regarding the block-range) and filter them, where the external transaction goes to one of the extended seed addresses. The method uses all filtered traces regardless of whether the transaction has been an error (e.g. out-of-gas, reverted). Additional off-chain information will be added and the filtered traces the stored in the preprocess-data subfolder."
   ]
  },
  {
   "cell_type": "code",
   "execution_count": null,
   "id": "0e447b4c-c5e7-42f9-b95c-98da006cbd51",
   "metadata": {},
   "outputs": [],
   "source": [
    "## find all trace-**csv.gz-files from path_chain_data\n",
    "## reduce to all traces-files that have an overlap with the block range\n",
    "## for each traces files:\n",
    "### read trace file\n",
    "### filter traces by ext. seed addr.\n",
    "### merge additional off-chain info: e.g. assigned protocol to address\n",
    "### write filtered trace file 'trace_*_fil.csv.gz' to path_preprocess_data + \"/filtered_traces\"\n",
    "\n",
    "pr.filterFiles(file_numbers=n, block_range=blocks)\n"
   ]
  },
  {
   "cell_type": "markdown",
   "id": "62aa81e8-40e5-4ff8-ac07-30036165ea85",
   "metadata": {},
   "source": [
    "### Aggregate trace files \n",
    "As a preprocessing step for the network creation, read the filtered files and count for each unit (from-&to-address + external/intern tx.) the number of appearances."
   ]
  },
  {
   "cell_type": "code",
   "execution_count": null,
   "id": "cb38e7cf-3cdf-4285-b073-677e5e91cbbc",
   "metadata": {},
   "outputs": [],
   "source": [
    "# agg number of transactions between each pair of addresses\n",
    "## find all traces from path_preprocess_data + \"filtered_traces\"\n",
    "## reduce to all traces-files that have an overlap with the block range\n",
    "## for each trace-file\n",
    "### read trace file\n",
    "### filter by block range\n",
    "### define external and internal as transactions_type\n",
    "### agg traces: count group-by from+to+transactions_type\n",
    "## concat all and sum group-by from+to+transactions_type\n",
    "## write traces_*_agg.csv.gz to path_preprocess_data + \"agg_traces\"\n",
    "\n",
    "pr.aggFiles(block_range=blocks)\n"
   ]
  },
  {
   "cell_type": "markdown",
   "id": "78526827-4b68-4065-b4c1-51f346cb29c3",
   "metadata": {},
   "source": [
    "## 1.2 Create the Code Account Network\n",
    "Use internal transactions and create a weighted, directed network of all interactions between code account (CA), where each node corresponds to one address and each link to the number of transactions between them."
   ]
  },
  {
   "cell_type": "code",
   "execution_count": 16,
   "id": "307c6ef1-f768-4864-aa7f-af673e489c0b",
   "metadata": {},
   "outputs": [
    {
     "name": "stdout",
     "output_type": "stream",
     "text": [
      "ca network: finished\n"
     ]
    }
   ],
   "source": [
    "# create ca-network from agg-traces\n",
    "## read agg traces file\n",
    "## filter only ca-ca interactions\n",
    "## write 'defi_ca_network_*.csv.gz' to path_preprocess_data/defi_networks\n",
    "\n",
    "pr.get_CA_network(block_range=blocks)\n"
   ]
  },
  {
   "cell_type": "markdown",
   "id": "3ce5e8a3-91ea-4920-90c9-6ff1cab2f842",
   "metadata": {},
   "source": [
    "### Create the Protocol Network\n",
    "Cumulate all protocol addresses of the same protocol into a single node."
   ]
  },
  {
   "cell_type": "code",
   "execution_count": 17,
   "id": "4263ab5c-969d-45d6-b894-0d1d1b11a790",
   "metadata": {},
   "outputs": [
    {
     "name": "stdout",
     "output_type": "stream",
     "text": [
      "pro network: finished\n"
     ]
    }
   ],
   "source": [
    "# create protocol-network from agg-traces\n",
    "## read agg traces file\n",
    "## substitute all protocol addresses with protocol name and cumulate\n",
    "## write 'defi_ca_network_pro_*.csv.gz' to path_preprocess_data/defi_networks\n",
    "\n",
    "pr.get_CA_network_pro(block_range=blocks)\n"
   ]
  },
  {
   "cell_type": "markdown",
   "id": "ef401723",
   "metadata": {},
   "source": [
    "## 2 Network analysis\n",
    "\n",
    "This section contains the scripts to reproduce the analysis of the DeFi CA and Protocol networks. "
   ]
  },
  {
   "cell_type": "markdown",
   "id": "e517bc88",
   "metadata": {},
   "source": [
    "### 2.1 Tables\n",
    "\n",
    "Import the file for the network analysis and execute it."
   ]
  },
  {
   "cell_type": "code",
   "execution_count": 18,
   "id": "65bc3879",
   "metadata": {},
   "outputs": [],
   "source": [
    "import scripts.network_analysis as nwa"
   ]
  },
  {
   "cell_type": "markdown",
   "id": "29f1016b",
   "metadata": {},
   "source": [
    "Execute the scripts on both networks. The parameters block_st and block_end take as input the block range defined in Section 0.3"
   ]
  },
  {
   "cell_type": "code",
   "execution_count": 19,
   "id": "15442902-e04d-4384-a1a5-fcfb3786c8d8",
   "metadata": {},
   "outputs": [
    {
     "name": "stdout",
     "output_type": "stream",
     "text": [
      "defi_ca_network_pro  analysis: done\n"
     ]
    }
   ],
   "source": [
    "nwa.network_analysis(\"defi_ca_network_pro\",block_st = blocks[0],block_end = blocks[1])"
   ]
  },
  {
   "cell_type": "code",
   "execution_count": 20,
   "id": "2e2f9096",
   "metadata": {
    "tags": []
   },
   "outputs": [
    {
     "name": "stdout",
     "output_type": "stream",
     "text": [
      "defi_ca_network  analysis: done\n"
     ]
    }
   ],
   "source": [
    "nwa.network_analysis(\"defi_ca_network\",block_st = blocks[0],block_end = blocks[1])"
   ]
  },
  {
   "cell_type": "markdown",
   "id": "2e4e2f8e",
   "metadata": {},
   "source": [
    "### 2.2 Plots"
   ]
  },
  {
   "cell_type": "markdown",
   "id": "6fe65c6a",
   "metadata": {},
   "source": [
    "Reproduce the degree distribution plot:"
   ]
  },
  {
   "cell_type": "code",
   "execution_count": 22,
   "id": "f9364665",
   "metadata": {},
   "outputs": [
    {
     "data": {
      "image/png": "[encoded data removed]"
     },
     "metadata": {},
     "output_type": "display_data"
    }
   ],
   "source": [
    "%%R\n",
    "\n",
    "source(\"./scripts/powerlaw.R\")"
   ]
  },
  {
   "cell_type": "markdown",
   "id": "fe954f24",
   "metadata": {},
   "source": [
    "Reproduce the components heatmap:"
   ]
  },
  {
   "cell_type": "code",
   "execution_count": 24,
   "id": "2a728f81",
   "metadata": {},
   "outputs": [
    {
     "data": {
      "image/png": "[encoded data removed]"
     },
     "metadata": {},
     "output_type": "display_data"
    }
   ],
   "source": [
    "%%R\n",
    "\n",
    "source(\"./scripts/heatmap_components.R\")"
   ]
  },
  {
   "cell_type": "markdown",
   "id": "1bf36610-f364-4e4d-9764-fc2ff9287f35",
   "metadata": {},
   "source": [
    "# 3. Building Block"
   ]
  },
  {
   "cell_type": "markdown",
   "id": "a9e05d2a-ad22-4036-856f-7fe3dfe12687",
   "metadata": {},
   "source": [
    "from building_blocks.py"
   ]
  },
  {
   "cell_type": "code",
   "execution_count": 25,
   "id": "b254ba25-8fd2-4aad-9192-4531bf51abd9",
   "metadata": {},
   "outputs": [
    {
     "data": {
      "text/plain": [
       "'14000000-14000999'"
      ]
     },
     "execution_count": 25,
     "metadata": {},
     "output_type": "execute_result"
    }
   ],
   "source": [
    "# create file string to aggregated building block regarding the defined block range\n",
    "from_block = blocks[0]\n",
    "to_block = blocks[1]\n",
    "blocks_str = str(from_block)+\"-\"+str(to_block)\n",
    "## convert 'BB_agg_*_all.csv.gz' for R usage\n",
    "blocks_str"
   ]
  },
  {
   "cell_type": "markdown",
   "id": "ec408563-ceff-4a7b-a673-bc0d28507b2e",
   "metadata": {},
   "source": [
    "## 3.1 Building Block Extraction\n",
    "Read the filtered traces and extract building blocks for each DeFi-protocol using the proposed algorithm."
   ]
  },
  {
   "cell_type": "code",
   "execution_count": null,
   "id": "505b35b6-cca1-443b-aa6d-d47fa95e84a0",
   "metadata": {},
   "outputs": [],
   "source": [
    "## find all filtered traces\n",
    "## reduce to all traces-files that have an overlap with the block range\n",
    "## for each traces files:\n",
    "### read trace file\n",
    "### filter by block range\n",
    "### for each tx hash\n",
    "#### run building block (bb) extraction algorithm\n",
    "### concat bb for trace file\n",
    "### write 'trace_*_fil_building_blocks.csv.gz' to path_building_block_data/building_blocks',\n",
    "\n",
    "bb.extractTxBuildingBlocks(file_numbers=n, block_range=blocks)\n"
   ]
  },
  {
   "cell_type": "markdown",
   "id": "9c32410f-ac57-42cf-85ad-e1c6e936600e",
   "metadata": {},
   "source": [
    "### Aggregate extracted Building Blocks\n",
    "Aggregate the building blocks by grouping and counting the detected patterns."
   ]
  },
  {
   "cell_type": "code",
   "execution_count": 27,
   "id": "b98d962c-8247-4781-8dd9-2678655aca4c",
   "metadata": {},
   "outputs": [
    {
     "name": "stdout",
     "output_type": "stream",
     "text": [
      "aggregate subtraces: finished\n"
     ]
    }
   ],
   "source": [
    "# if (args.function in ['aggSubTr', 'all']):\n",
    "bb.aggTxSubTraces(file_numbers=n, block_range=blocks)\n",
    "## find all bb-files of path_building_block_data/building_blocks\n",
    "## reduce to all bb-files that have an overlap with the block range\n",
    "## for each bb-file\n",
    "### count groupby without tx-hash\n",
    "## concat all bb\n",
    "## aggregate: sum groupby -.-\n",
    "## write 'BB_agg_*_all.csv.gz' to path_building_block_data/building_blocks_agg"
   ]
  },
  {
   "cell_type": "markdown",
   "id": "79df8515-7c1f-4a41-b314-85d5bed5702b",
   "metadata": {},
   "source": [
    "## 3.2 Preprocess Building Blocks\n",
    "from building_blocks_processing.R\n",
    "\n",
    "The R scripts are very computational and space intensive, \n",
    "therefore they might take long and enough RAM and DISK SPACE is required!\n",
    "\n",
    "Read the aggregated building blocks and restructure the data set. "
   ]
  },
  {
   "cell_type": "code",
   "execution_count": 28,
   "id": "1eb13f4b-4fdf-4f72-9565-51e75783c1ac",
   "metadata": {
    "tags": []
   },
   "outputs": [
    {
     "name": "stdout",
     "output_type": "stream",
     "text": [
      "[1] \"read:  ./data/5_building_block_data/building_blocks_agg/BB_agg_14000000-14000999_all.csv.gz\"\n",
      "[1] \"agg: reduce additional information\"\n",
      "[1] \"compute: number of sub-bb\"\n",
      "[1] \"split-up: all sub-bb pointers for each bb\"\n",
      "[1] \"expand: table, each sub-bb pointer in an own row\"\n",
      "[1] \"add: protocol name to each bb\"\n",
      "[1] \"add: appearing protocol info to original table\"\n",
      "[1] \"count: number of appearing protocols\"\n"
     ]
    }
   ],
   "source": [
    "%%R -i blocks_str\n",
    "source(\"./scripts/building_blocks_processing.R\")\n",
    "# could take very long + enough RAM and DISK SPACE is required!\n",
    "#preprocess_bb(file_path_bb_agg_info = paste0(path_building_block_data,\"/building_blocks_agg/\",blocks_str))\n",
    "file_path_bb_agg_info <- paste0(path_building_block_data,\"/building_blocks_agg/\",\"BB_agg_\",blocks_str,\"_all.csv.gz\")\n",
    "file_path_bb_agg_pro <- paste0(path_building_block_data,\"/building_blocks_agg/\",\"BB_agg_pro_\",blocks_str,\".csv.gz\")\n",
    "file_path_bb_lookup <- paste0(path_building_block_data,\"/building_blocks_agg/\",\"BB_lookup_\",blocks_str,\".csv.gz\")\n",
    "\n",
    "preprocess_bb(file_path_bb_agg_info,file_path_bb_agg_pro,file_path_bb_lookup)\n"
   ]
  },
  {
   "cell_type": "markdown",
   "id": "19cd0445-b724-4646-9ba5-c4a11c6ed28f",
   "metadata": {},
   "source": [
    "Create a tree structure from initially called blocks to its' sub-blocks and finally to the atomic once, which doesn't contain any further blocks. Produce tree structures from two perspectives, regarding the instance of each tree node: either protocol or building block hash for different applications."
   ]
  },
  {
   "cell_type": "markdown",
   "id": "74615eb9-d492-4613-a50f-700582790198",
   "metadata": {},
   "source": [
    "from building_blocks_preprocess_tree.R"
   ]
  },
  {
   "cell_type": "code",
   "execution_count": 29,
   "id": "b20c2989-d0c4-4b4e-acc4-11b4c9d7eb0c",
   "metadata": {
    "scrolled": true,
    "tags": []
   },
   "outputs": [
    {
     "name": "stdout",
     "output_type": "stream",
     "text": [
      "[1] \"depth: 0\"\n",
      "[1] \"depth: 1\"\n",
      "[1] \"depth: 2\"\n",
      "[1] \"depth: 3\"\n",
      "[1] \"depth: 4\"\n",
      "[1] \"depth: 5\"\n",
      "[1] \"depth: 6\"\n",
      "[1] \"depth: 7\"\n"
     ]
    }
   ],
   "source": [
    "%%R -i blocks_str\n",
    "\n",
    "file_hash_tree <- paste0(path_building_block_data,\"/building_blocks_agg/\",\"hash_tree_\",blocks_str,\".csv.gz\")\n",
    "file_protocol_tree <- paste0(path_building_block_data,\"/building_blocks_agg/\",\"pro_tree_\",blocks_str,\".csv.gz\")\n",
    "\n",
    "source(\"./scripts/building_blocks_preprocess_tree.R\")\n",
    "hash_tree <- create_hash_tree(file_path_bb_agg_pro, file_path_bb_lookup, file_hash_tree, file_protocol_tree)"
   ]
  },
  {
   "cell_type": "markdown",
   "id": "2f6d04ef-00f2-42c3-aeb7-34f0716e969d",
   "metadata": {},
   "source": [
    "## 3.3 Building Blocks Analysis\n",
    "from building_blocks_plots.R"
   ]
  },
  {
   "cell_type": "markdown",
   "id": "9226387f-3919-48e6-a227-f181b322c578",
   "metadata": {},
   "source": [
    "Plot the building block tree structure of the first tree level"
   ]
  },
  {
   "cell_type": "code",
   "execution_count": 30,
   "id": "a4cb2300-c83e-4e8f-b22f-c5b8179a8841",
   "metadata": {},
   "outputs": [
    {
     "data": {
      "image/png": "[encoded data removed]"
     },
     "metadata": {},
     "output_type": "display_data"
    }
   ],
   "source": [
    "%%R\n",
    "source(\"./scripts/building_blocks_plots.R\")\n",
    "plot_tree_map <- create_tree_map_plot(file_path_bb_agg_pro, file_hash_tree);"
   ]
  },
  {
   "cell_type": "markdown",
   "id": "6e8cd8cd-abd1-44c1-9d11-b24be9b416da",
   "metadata": {},
   "source": [
    "Plot the building blocks' protocol tree for one single protocol. Each building block can be associated with a protocol. The plot shows which different protocol building blocks are contained, starting from a specified DeFi protocol."
   ]
  },
  {
   "cell_type": "code",
   "execution_count": 31,
   "id": "3f3f6897-d94f-4af7-bb54-b53db7540b7c",
   "metadata": {},
   "outputs": [
    {
     "data": {
      "image/png": "[encoded data removed]",
      "text/plain": [
       "<Figure size 1000x500 with 1 Axes>"
      ]
     },
     "metadata": {},
     "output_type": "display_data"
    }
   ],
   "source": [
    "%matplotlib inline\n",
    "\n",
    "file_protocol_tree = \"/building_blocks_agg/\"+\"pro_tree_\"+blocks_str+\".csv.gz\"\n",
    "\n",
    "bbpt.create_pro_tree_plot(select_protocol = \"aave\", file_relpath_pro_tree = file_protocol_tree)"
   ]
  },
  {
   "cell_type": "markdown",
   "id": "c2c518a0-5293-438a-be8d-b4dd781f09e6",
   "metadata": {},
   "source": [
    "Create a heatmap of contained protocols when an external transaction has been called from a certain protocol."
   ]
  },
  {
   "cell_type": "code",
   "execution_count": 32,
   "id": "9afa7eb1-36fa-4eff-8ad1-f9202a767889",
   "metadata": {},
   "outputs": [
    {
     "data": {
      "image/png": "[encoded data removed]"
     },
     "metadata": {},
     "output_type": "display_data"
    }
   ],
   "source": [
    "%%R\n",
    "source(\"./scripts/building_blocks_plots.R\")\n",
    "plot_heatmap <- create_heatmap_plot(file_path_bb_agg_pro, file_hash_tree);"
   ]
  },
  {
   "cell_type": "markdown",
   "id": "bb9568d5-b5ed-45a9-9472-6abd6c1c00f0",
   "metadata": {},
   "source": [
    "# 4. USDT Case Study"
   ]
  },
  {
   "cell_type": "markdown",
   "id": "28fc91b4-6428-4078-a4e8-baff06310de2",
   "metadata": {},
   "source": [
    "Case study for a hypothetical stablecoin run for USDT. The analysis shows how many building blocks of each DeFi protocols are affected directly or indirectly through dependencies in the call graph from blocks that file above."
   ]
  },
  {
   "cell_type": "code",
   "execution_count": 33,
   "id": "cbac649b-681c-4bd9-bc30-837772bc9f83",
   "metadata": {},
   "outputs": [
    {
     "name": "stdout",
     "output_type": "stream",
     "text": [
      "./data/5_building_block_data/building_blocks_agg/BB_agg_14000000-14000999_all.csv.gz\n",
      "Write: ./data/5_building_block_data/case_study/0xdac1_14000000-14000999_Protocol_Depenency.csv\n"
     ]
    }
   ],
   "source": [
    "%matplotlib inline\n",
    "\n",
    "addr_token = str(\"0xdAC17F958D2ee523a2206206994597C13D831ec7\").lower()\n",
    "\n",
    "file_path_bb_agg_info  = \"/building_blocks_agg/BB_agg_\"+blocks_str+\"_all.csv.gz\"\n",
    "file_name_token_dep = addr_token[0:6]+\"_\"+blocks_str+\"_Protocol_Depenency.csv\"\n",
    "\n",
    "df_case_study = cs.case_study(addr_token = addr_token,\n",
    "                              file_relpath_bb_agg_info = file_path_bb_agg_info,\n",
    "                              fn_token_dep = file_name_token_dep)\n",
    "#df_case_study.plot.bar()"
   ]
  },
  {
   "cell_type": "code",
   "execution_count": 34,
   "id": "87a7886f-5e54-47ca-9db3-ff45fc313529",
   "metadata": {},
   "outputs": [
    {
     "data": {
      "image/png": "[encoded data removed]"
     },
     "metadata": {},
     "output_type": "display_data"
    }
   ],
   "source": [
    "%%R -i file_name_token_dep\n",
    "source(\"./scripts/usdt_plot.R\")\n",
    "plot_usdt_protocol_bar(fn_token_dep = file_name_token_dep)"
   ]
  }
 ],
 "metadata": {
  "kernelspec": {
   "display_name": "comp_venv",
   "language": "python",
   "name": "comp_venv"
  },
  "language_info": {
   "codemirror_mode": {
    "name": "ipython",
    "version": 3
   },
   "file_extension": ".py",
   "mimetype": "text/x-python",
   "name": "python",
   "nbconvert_exporter": "python",
   "pygments_lexer": "ipython3",
   "version": "3.9.13"
  }
 },
 "nbformat": 4,
 "nbformat_minor": 5
}
